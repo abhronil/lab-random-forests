{
 "cells": [
  {
   "cell_type": "code",
   "execution_count": 21,
   "id": "863e0cfe",
   "metadata": {},
   "outputs": [],
   "source": [
    "import pandas as pd\n",
    "from sklearn.model_selection import train_test_split\n",
    "from imblearn.over_sampling import SMOTE\n",
    "from sklearn.ensemble import RandomForestClassifier "
   ]
  },
  {
   "cell_type": "code",
   "execution_count": 2,
   "id": "34fd1547",
   "metadata": {},
   "outputs": [],
   "source": [
    "df_categorical=pd.read_csv(\"files_for_lab/categorical.csv\")\n",
    "df_numerical=pd.read_csv(\"files_for_lab/numerical.csv\")\n",
    "df_target=pd.read_csv(\"files_for_lab/target.csv\")"
   ]
  },
  {
   "cell_type": "code",
   "execution_count": 3,
   "id": "5f70cea4",
   "metadata": {},
   "outputs": [
    {
     "data": {
      "text/plain": [
       "TARGET_B    0\n",
       "TARGET_D    0\n",
       "dtype: int64"
      ]
     },
     "execution_count": 3,
     "metadata": {},
     "output_type": "execute_result"
    }
   ],
   "source": [
    "df_numerical.isna().sum()\n",
    "df_target.isna().sum()"
   ]
  },
  {
   "cell_type": "code",
   "execution_count": 7,
   "id": "2fe25b16",
   "metadata": {},
   "outputs": [],
   "source": [
    "categorical_columns = [\"STATE\",\"HOMEOWNR\",\"GENDER\",\"RFA_2R\",\"RFA_2A\",\"GEOCODE2\",\"DOMAIN_A\"]"
   ]
  },
  {
   "cell_type": "code",
   "execution_count": 10,
   "id": "c9926e1c",
   "metadata": {},
   "outputs": [],
   "source": [
    "df_categorical_encoded = pd.DataFrame()\n",
    "for col in categorical_columns:\n",
    "    encoded = pd.get_dummies(df_categorical[col])\n",
    "    df_categorical_encoded = pd.concat([df_categorical_encoded, encoded], axis=1)"
   ]
  },
  {
   "cell_type": "code",
   "execution_count": 12,
   "id": "c0a3081e",
   "metadata": {},
   "outputs": [],
   "source": [
    "y= df_target.drop([\"TARGET_D\"],axis=1)"
   ]
  },
  {
   "cell_type": "code",
   "execution_count": 13,
   "id": "043c1759",
   "metadata": {},
   "outputs": [],
   "source": [
    "x = pd.concat([df_numerical,df_categorical_encoded], axis=1)"
   ]
  },
  {
   "cell_type": "code",
   "execution_count": 14,
   "id": "0a662708",
   "metadata": {},
   "outputs": [],
   "source": [
    "X_train, X_test, y_train, y_test = train_test_split(x,y,test_size=0.2, random_state=42)"
   ]
  },
  {
   "cell_type": "code",
   "execution_count": 17,
   "id": "a59b4836",
   "metadata": {},
   "outputs": [],
   "source": [
    "smote = SMOTE()\n",
    "X_train_bal,y_train_bal=smote.fit_resample(X_train,y_train)"
   ]
  },
  {
   "cell_type": "code",
   "execution_count": 23,
   "id": "989dd3af",
   "metadata": {},
   "outputs": [
    {
     "name": "stderr",
     "output_type": "stream",
     "text": [
      "C:\\Users\\aci\\AppData\\Local\\Temp\\ipykernel_22344\\2450209064.py:2: DataConversionWarning: A column-vector y was passed when a 1d array was expected. Please change the shape of y to (n_samples,), for example using ravel().\n",
      "  rg.fit(X_train_bal, y_train_bal)\n"
     ]
    },
    {
     "data": {
      "text/plain": [
       "RandomForestClassifier(max_depth=8, n_jobs=-1, random_state=42)"
      ]
     },
     "execution_count": 23,
     "metadata": {},
     "output_type": "execute_result"
    }
   ],
   "source": [
    "rg = RandomForestClassifier(max_depth=8, random_state=42, n_jobs=-1)\n",
    "rg.fit(X_train_bal, y_train_bal)"
   ]
  },
  {
   "cell_type": "code",
   "execution_count": 24,
   "id": "559f4641",
   "metadata": {},
   "outputs": [
    {
     "data": {
      "text/plain": [
       "0.9173610019388985"
      ]
     },
     "execution_count": 24,
     "metadata": {},
     "output_type": "execute_result"
    }
   ],
   "source": [
    "rg.score(X_test, y_test)"
   ]
  },
  {
   "cell_type": "code",
   "execution_count": null,
   "id": "acc091b7",
   "metadata": {},
   "outputs": [],
   "source": []
  }
 ],
 "metadata": {
  "kernelspec": {
   "display_name": "Python 3 (ipykernel)",
   "language": "python",
   "name": "python3"
  },
  "language_info": {
   "codemirror_mode": {
    "name": "ipython",
    "version": 3
   },
   "file_extension": ".py",
   "mimetype": "text/x-python",
   "name": "python",
   "nbconvert_exporter": "python",
   "pygments_lexer": "ipython3",
   "version": "3.9.13"
  }
 },
 "nbformat": 4,
 "nbformat_minor": 5
}
